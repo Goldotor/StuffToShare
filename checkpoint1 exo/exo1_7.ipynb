{
 "cells": [
  {
   "cell_type": "code",
   "execution_count": 7,
   "id": "d7e3f70b",
   "metadata": {},
   "outputs": [
    {
     "name": "stdout",
     "output_type": "stream",
     "text": [
      "Veuillez entrer une suite de nombres entier séparés par une virgule\n",
      "100,200,300,500\n",
      "[18.257418583505537, 25.81988897471611, 31.622776601683793, 40.824829046386306]\n"
     ]
    }
   ],
   "source": [
    "import math\n",
    "print(\"Veuillez entrer une suite de nombres entier séparés par une virgule\")\n",
    "ch=input()\n",
    "listt=ch.split(\",\")\n",
    "for i in range(0,len(listt)):\n",
    "    listt[i]=int(listt[i])\n",
    "C=50\n",
    "H=30\n",
    "for i in range(0,len(listt)):\n",
    "    listt[i]=math.sqrt((2*C*listt[i])/H)\n",
    "print(listt)"
   ]
  },
  {
   "cell_type": "code",
   "execution_count": null,
   "id": "057130bc",
   "metadata": {},
   "outputs": [],
   "source": []
  },
  {
   "cell_type": "code",
   "execution_count": null,
   "id": "5fd45d54",
   "metadata": {},
   "outputs": [],
   "source": []
  },
  {
   "cell_type": "code",
   "execution_count": null,
   "id": "2ef526fc",
   "metadata": {},
   "outputs": [],
   "source": []
  }
 ],
 "metadata": {
  "kernelspec": {
   "display_name": "Python 3",
   "language": "python",
   "name": "python3"
  },
  "language_info": {
   "codemirror_mode": {
    "name": "ipython",
    "version": 3
   },
   "file_extension": ".py",
   "mimetype": "text/x-python",
   "name": "python",
   "nbconvert_exporter": "python",
   "pygments_lexer": "ipython3",
   "version": "3.8.8"
  }
 },
 "nbformat": 4,
 "nbformat_minor": 5
}
