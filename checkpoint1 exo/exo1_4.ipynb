{
 "cells": [
  {
   "cell_type": "code",
   "execution_count": 4,
   "id": "8788bbe5",
   "metadata": {},
   "outputs": [
    {
     "name": "stdout",
     "output_type": "stream",
     "text": [
      "Veuillez entrer un chaine de charactere non-vide\n",
      "azerty\n",
      "Veuillez entrez un entier entre 0 et  5\n",
      "5\n",
      "azert\n"
     ]
    }
   ],
   "source": [
    "char=\"\"\n",
    "while char==\"\":\n",
    "    print(\"Veuillez entrer un chaine de charactere non-vide\")\n",
    "    char=input()\n",
    "N=\"nope\"\n",
    "while N.isdecimal()==False:\n",
    "    print(\"Veuillez entrez un entier entre 0 et \",len(char)-1)\n",
    "    N=input()\n",
    "    if N.isdecimal()==True:\n",
    "        if int(N)>=0 and int(N)<=len(char)-1:\n",
    "            n=int(N)\n",
    "        else:\n",
    "            N=\"nope\"\n",
    "    else:\n",
    "        N=\"nope\"\n",
    "charTwo=\"\"\n",
    "for i in range(0,n+1):\n",
    "          if i!=n:\n",
    "              charTwo=charTwo+char[i]\n",
    "print(charTwo)\n",
    "          \n",
    "          \n",
    "          \n",
    "          \n"
   ]
  },
  {
   "cell_type": "code",
   "execution_count": null,
   "id": "8b3611a9",
   "metadata": {},
   "outputs": [],
   "source": []
  },
  {
   "cell_type": "code",
   "execution_count": null,
   "id": "6d663d16",
   "metadata": {},
   "outputs": [],
   "source": []
  },
  {
   "cell_type": "code",
   "execution_count": null,
   "id": "09d329e1",
   "metadata": {},
   "outputs": [],
   "source": []
  }
 ],
 "metadata": {
  "kernelspec": {
   "display_name": "Python 3",
   "language": "python",
   "name": "python3"
  },
  "language_info": {
   "codemirror_mode": {
    "name": "ipython",
    "version": 3
   },
   "file_extension": ".py",
   "mimetype": "text/x-python",
   "name": "python",
   "nbconvert_exporter": "python",
   "pygments_lexer": "ipython3",
   "version": "3.8.8"
  }
 },
 "nbformat": 4,
 "nbformat_minor": 5
}
