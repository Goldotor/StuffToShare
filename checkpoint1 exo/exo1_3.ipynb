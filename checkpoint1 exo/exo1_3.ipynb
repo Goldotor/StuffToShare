{
 "cells": [
  {
   "cell_type": "code",
   "execution_count": 2,
   "id": "5ef806c6",
   "metadata": {},
   "outputs": [
    {
     "name": "stdout",
     "output_type": "stream",
     "text": [
      "Veuillez entrez un entier strictement positif svp\n",
      "5\n",
      "{1: 1, 2: 4, 3: 9, 4: 16, 5: 25}\n"
     ]
    }
   ],
   "source": [
    "N=\"nope\"\n",
    "while N.isdecimal()==False:\n",
    "    print(\"Veuillez entrez un entier strictement positif svp\")\n",
    "    N=input()\n",
    "    if N.isdecimal()==True:\n",
    "        if int(N)>=1:\n",
    "            n=int(N)\n",
    "        else:\n",
    "            N=\"nope\"\n",
    "    else:\n",
    "        N=\"nope\"\n",
    "\n",
    "dico={}\n",
    "for i in range(1,n+1):\n",
    "    dico[i]=i*i\n",
    "print(dico)\n",
    "\n",
    "\n"
   ]
  },
  {
   "cell_type": "code",
   "execution_count": null,
   "id": "ba5faa62",
   "metadata": {},
   "outputs": [],
   "source": []
  }
 ],
 "metadata": {
  "kernelspec": {
   "display_name": "Python 3",
   "language": "python",
   "name": "python3"
  },
  "language_info": {
   "codemirror_mode": {
    "name": "ipython",
    "version": 3
   },
   "file_extension": ".py",
   "mimetype": "text/x-python",
   "name": "python",
   "nbconvert_exporter": "python",
   "pygments_lexer": "ipython3",
   "version": "3.8.8"
  }
 },
 "nbformat": 4,
 "nbformat_minor": 5
}
