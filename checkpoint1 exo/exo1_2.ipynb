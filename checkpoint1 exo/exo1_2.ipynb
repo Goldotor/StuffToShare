{
 "cells": [
  {
   "cell_type": "code",
   "execution_count": 7,
   "id": "81a1c75f",
   "metadata": {},
   "outputs": [
    {
     "name": "stdout",
     "output_type": "stream",
     "text": [
      "Veuillez entrez un entier positif svp\n",
      "5\n",
      "Le factoriel de  5  est  120\n"
     ]
    }
   ],
   "source": [
    "p=1\n",
    "N=\"nope\"\n",
    "while N.isdecimal()==False:\n",
    "    print(\"Veuillez entrez un entier positif svp\")\n",
    "    N=input()\n",
    "    if N.isdecimal()==True:\n",
    "        if int(N)>=0:\n",
    "            n=int(N)\n",
    "        else:\n",
    "            N=\"nope\"\n",
    "    else:\n",
    "        N=\"nope\"\n",
    "\n",
    "if n==0:\n",
    "    print(\"Le factoriel de \",n,\" est \",p)\n",
    "else:\n",
    "    for i in range(1,n+1):\n",
    "        p=p*i\n",
    "    print(\"Le factoriel de \",n,\" est \",p)\n",
    "\n"
   ]
  },
  {
   "cell_type": "code",
   "execution_count": null,
   "id": "5abbc4d2",
   "metadata": {},
   "outputs": [],
   "source": []
  }
 ],
 "metadata": {
  "kernelspec": {
   "display_name": "Python 3",
   "language": "python",
   "name": "python3"
  },
  "language_info": {
   "codemirror_mode": {
    "name": "ipython",
    "version": 3
   },
   "file_extension": ".py",
   "mimetype": "text/x-python",
   "name": "python",
   "nbconvert_exporter": "python",
   "pygments_lexer": "ipython3",
   "version": "3.8.8"
  }
 },
 "nbformat": 4,
 "nbformat_minor": 5
}
